{
 "cells": [
  {
   "cell_type": "markdown",
   "id": "5676a644",
   "metadata": {},
   "source": [
    "[![image.png](https://i.postimg.cc/RhYr7Yv1/image.png)](https://postimg.cc/Zv6DZVB0)"
   ]
  },
  {
   "cell_type": "markdown",
   "id": "cd22bd91",
   "metadata": {},
   "source": [
    "<div style=\"padding:20px 30px 30px; \n",
    "            color:#004346;\n",
    "            font-size:40px;\n",
    "            display:fill;\n",
    "            text-align:center;\n",
    "            border-radius:20px;\n",
    "            border: 5px double;\n",
    "            border-color:#201E20;\n",
    "            background-color: #E8F1F2;\n",
    "            overflow:hidden;\n",
    "            font-weight:400\"> \n",
    "<p style=\"font-weight: bold; text-align: center;\">Прогнозирование температуры звезды</p>\n",
    "\n",
    "\n",
    "</div>"
   ]
  },
  {
   "cell_type": "markdown",
   "id": "3008a90a",
   "metadata": {},
   "source": [
    "<div style=\"padding:0px 40px 30px; \n",
    "            color:#004346;\n",
    "            font-size:110%;\n",
    "            display:fill;\n",
    "            border-radius:20px;\n",
    "            border: 5px double;\n",
    "            border-color:#201E20;\n",
    "            background-color: #E8F1F2;\n",
    "            overflow:hidden;\n",
    "            font-weight:450;\"> \n",
    "    \n",
    "__Заказчик:__ обсерватория «Небо на ладони».\n",
    "    \n",
    "__Постановка задачи:__ разработка метода определения температуры на поверхности обнаруженных звёзд с использованием нейросетевого подхода.\n",
    "    \n",
    "__Описание задачи:__ необходимо создать модель нейронной сети, способную определять температуру на поверхности обнаруженных звёзд на основе доступных данных. Для этого требуется подготовить набор данных, содержащий информацию о различных характеристиках звёзд и соответствующие им измеренные значения температуры. Затем следует обучить нейросеть на этом наборе данных, чтобы она могла выявить закономерности и установить связь между входными параметрами и целевыми значениями температуры.    \n",
    "\n",
    "__Оценка результата:__ В данной задаче мы можем использовать метрику RMSE (Root Mean Square Error) для оценки качества модели. Цель состоит в том, чтобы минимизировать значение RMSE и добиться, чтобы оно не превышало 4500. RMSE представляет собой квадратный корень из среднеквадратичной ошибки между прогнозируемыми и фактическими значениями температуры.\n",
    "    \n",
    "__Описание данных:__\n",
    "    \n",
    "В базе обсерватории есть данные о 240 звёзд:\n",
    "    \n",
    "- `Luminosity(L/Lo)` - Относительная светимость — светимость звезды относительно Солнца.\n",
    "- `Radius(R/Ro)` - Относительный радиус — радиус звезды относительно радиуса Солнца.\n",
    "- `Absolute magnitude(Mv)` — Абсолютная звёздная величина — физическая величина, характеризующая блеск звезды.\n",
    "- `Star color` — Звёздный цвет (white, red, blue, yellow, yellow-orange и др.) — цвет звезды, который определяют на основе спектрального анализа.\n",
    "- `Star type` — Тип звезды:\n",
    "    | Тип звезды | Номер, соответствующий типу |\n",
    "    | ------ | -------------- |\n",
    "    | Коричневый карлик | 0  |\n",
    "    | Красный карлик\t | 1 |\n",
    "    | Белый карлик\t | 2  |\n",
    "    | Звёзды главной последовательности\t | 3 |\n",
    "    | Сверхгигант | 4 |\n",
    "    | Гипергигант | 5 |\n",
    "\n",
    "\n",
    "____________________\n",
    "\n",
    "__Целевой признак:__ \n",
    "- `Temperature (K)` - Абсолютная температура — температура на поверхности звезды в Кельвинах.\n",
    "\n",
    "</div>    "
   ]
  },
  {
   "cell_type": "markdown",
   "id": "1440812f",
   "metadata": {},
   "source": [
    "<div style=\"padding:0px 20px 10px; \n",
    "            color:#004346;\n",
    "            font-size:15px;\n",
    "            display:fill;\n",
    "            text-align:center;\n",
    "            border-radius:20px;\n",
    "            border: 5px double;\n",
    "            border-color:#201E20;\n",
    "            background-color: #E8F1F2;\n",
    "            overflow:hidden;\n",
    "            font-weight:400\"> \n",
    "\n",
    "# Используемые библиотеки\n",
    "\n",
    "</div>"
   ]
  },
  {
   "cell_type": "code",
   "execution_count": 1,
   "id": "a2963fd4",
   "metadata": {},
   "outputs": [],
   "source": [
    "import pandas as pd\n",
    "import numpy as np\n",
    "import matplotlib.pyplot as plt\n",
    "import seaborn as sns\n",
    "import phik\n",
    "\n",
    "from sklearn.model_selection import train_test_split\n",
    "from sklearn.compose import ColumnTransformer\n",
    "from sklearn.preprocessing import StandardScaler, OneHotEncoder\n",
    "\n",
    "import torch\n",
    "import torch.nn as nn\n",
    "import torch.optim as optim\n",
    "\n",
    "from sklearn.metrics import mean_squared_error\n",
    "from math import sqrt\n",
    "\n",
    "from sklearn.model_selection import ParameterGrid\n",
    "\n",
    "# константы\n",
    "RANDOM_SEED = 42\n",
    "\n",
    "# настройки блокнота\n",
    "torch.manual_seed(RANDOM_SEED)\n",
    "np.random.seed(RANDOM_SEED)"
   ]
  },
  {
   "cell_type": "markdown",
   "id": "102d9879",
   "metadata": {},
   "source": [
    "<div style=\"padding:0px 20px 10px; \n",
    "            color:#004346;\n",
    "            font-size:15px;\n",
    "            display:fill;\n",
    "            text-align:center;\n",
    "            border-radius:20px;\n",
    "            border: 5px double;\n",
    "            border-color:#201E20;\n",
    "            background-color: #E8F1F2;\n",
    "            overflow:hidden;\n",
    "            font-weight:400\"> \n",
    "\n",
    "# Загрузка данных\n",
    "\n",
    "</div>"
   ]
  },
  {
   "cell_type": "code",
   "execution_count": 2,
   "id": "3b237ac8",
   "metadata": {},
   "outputs": [
    {
     "data": {
      "text/html": [
       "<div>\n",
       "<style scoped>\n",
       "    .dataframe tbody tr th:only-of-type {\n",
       "        vertical-align: middle;\n",
       "    }\n",
       "\n",
       "    .dataframe tbody tr th {\n",
       "        vertical-align: top;\n",
       "    }\n",
       "\n",
       "    .dataframe thead th {\n",
       "        text-align: right;\n",
       "    }\n",
       "</style>\n",
       "<table border=\"1\" class=\"dataframe\">\n",
       "  <thead>\n",
       "    <tr style=\"text-align: right;\">\n",
       "      <th></th>\n",
       "      <th>Unnamed: 0</th>\n",
       "      <th>Temperature (K)</th>\n",
       "      <th>Luminosity(L/Lo)</th>\n",
       "      <th>Radius(R/Ro)</th>\n",
       "      <th>Absolute magnitude(Mv)</th>\n",
       "      <th>Star type</th>\n",
       "      <th>Star color</th>\n",
       "    </tr>\n",
       "  </thead>\n",
       "  <tbody>\n",
       "    <tr>\n",
       "      <th>0</th>\n",
       "      <td>0</td>\n",
       "      <td>3068</td>\n",
       "      <td>0.0024</td>\n",
       "      <td>0.1700</td>\n",
       "      <td>16.12</td>\n",
       "      <td>0</td>\n",
       "      <td>Red</td>\n",
       "    </tr>\n",
       "    <tr>\n",
       "      <th>1</th>\n",
       "      <td>1</td>\n",
       "      <td>3042</td>\n",
       "      <td>0.0005</td>\n",
       "      <td>0.1542</td>\n",
       "      <td>16.60</td>\n",
       "      <td>0</td>\n",
       "      <td>Red</td>\n",
       "    </tr>\n",
       "  </tbody>\n",
       "</table>\n",
       "</div>"
      ],
      "text/plain": [
       "   Unnamed: 0  Temperature (K)  Luminosity(L/Lo)  Radius(R/Ro)  \\\n",
       "0           0             3068            0.0024        0.1700   \n",
       "1           1             3042            0.0005        0.1542   \n",
       "\n",
       "   Absolute magnitude(Mv)  Star type Star color  \n",
       "0                   16.12          0        Red  \n",
       "1                   16.60          0        Red  "
      ]
     },
     "metadata": {},
     "output_type": "display_data"
    }
   ],
   "source": [
    "# загрузка данных:\n",
    "try:\n",
    "    df = pd.read_csv('https://code.s3.yandex.net/datasets/6_class.csv')\n",
    "    display(df.head(2))\n",
    "except:\n",
    "    display('Данные не доступны')"
   ]
  },
  {
   "cell_type": "markdown",
   "id": "49b7c042",
   "metadata": {},
   "source": [
    "<div style=\"padding:0px 20px 10px; \n",
    "            color:#004346;\n",
    "            font-size:15px;\n",
    "            display:fill;\n",
    "            text-align:center;\n",
    "            border-radius:20px;\n",
    "            border: 5px double;\n",
    "            border-color:#201E20;\n",
    "            background-color: #E8F1F2;\n",
    "            overflow:hidden;\n",
    "            font-weight:400\"> \n",
    "\n",
    "# Предобработка и исследовательский анализ данных\n",
    "\n",
    "## Общая информация\n",
    "\n",
    "</div>"
   ]
  },
  {
   "cell_type": "code",
   "execution_count": 3,
   "id": "9a7ff43c",
   "metadata": {},
   "outputs": [
    {
     "name": "stdout",
     "output_type": "stream",
     "text": [
      "<class 'pandas.core.frame.DataFrame'>\n",
      "RangeIndex: 240 entries, 0 to 239\n",
      "Data columns (total 7 columns):\n",
      " #   Column                  Non-Null Count  Dtype  \n",
      "---  ------                  --------------  -----  \n",
      " 0   Unnamed: 0              240 non-null    int64  \n",
      " 1   Temperature (K)         240 non-null    int64  \n",
      " 2   Luminosity(L/Lo)        240 non-null    float64\n",
      " 3   Radius(R/Ro)            240 non-null    float64\n",
      " 4   Absolute magnitude(Mv)  240 non-null    float64\n",
      " 5   Star type               240 non-null    int64  \n",
      " 6   Star color              240 non-null    object \n",
      "dtypes: float64(3), int64(3), object(1)\n",
      "memory usage: 13.2+ KB\n"
     ]
    },
    {
     "data": {
      "text/plain": [
       "None"
      ]
     },
     "metadata": {},
     "output_type": "display_data"
    }
   ],
   "source": [
    "display(df.info())"
   ]
  },
  {
   "cell_type": "markdown",
   "id": "d30094fd",
   "metadata": {},
   "source": [
    "__Проверим пропуски в данных:__"
   ]
  },
  {
   "cell_type": "code",
   "execution_count": 4,
   "id": "87ad3eed",
   "metadata": {},
   "outputs": [
    {
     "name": "stdout",
     "output_type": "stream",
     "text": [
      "Общее количество пропусков в данных: 0\n"
     ]
    }
   ],
   "source": [
    "print(f'Общее количество пропусков в данных: {sum(col_pas for col_pas in df.isna().sum())}')"
   ]
  },
  {
   "cell_type": "markdown",
   "id": "14e4036e",
   "metadata": {},
   "source": [
    "<div style=\"padding: 30px 25px; border: 2px #6495ed solid\">\n",
    "\n",
    "- Данные загружены корректно.\n",
    "- Пропуски в данных отсутствуют.\n",
    "    \n",
    "__Недостатки:__\n",
    "- Некоректное названий стобцов, их следует переименовать;\n",
    "- В датафрейме присутствует признак `Unnamed: 0`, наличие которого связано с импортом индексов датафрейма, при его сохранении, его следует удалить.\n",
    "    \n",
    "</div>"
   ]
  },
  {
   "cell_type": "markdown",
   "id": "6b2c48a7",
   "metadata": {},
   "source": [
    "### Удаление признака `Unnamed: 0`"
   ]
  },
  {
   "cell_type": "code",
   "execution_count": 5,
   "id": "7651fde5",
   "metadata": {},
   "outputs": [],
   "source": [
    "df = df.drop('Unnamed: 0', axis=1).copy()"
   ]
  },
  {
   "cell_type": "markdown",
   "id": "18dbcfb9",
   "metadata": {},
   "source": [
    "### Переименование признаков"
   ]
  },
  {
   "cell_type": "code",
   "execution_count": 6,
   "id": "2730e66b",
   "metadata": {},
   "outputs": [
    {
     "data": {
      "text/html": [
       "<div>\n",
       "<style scoped>\n",
       "    .dataframe tbody tr th:only-of-type {\n",
       "        vertical-align: middle;\n",
       "    }\n",
       "\n",
       "    .dataframe tbody tr th {\n",
       "        vertical-align: top;\n",
       "    }\n",
       "\n",
       "    .dataframe thead th {\n",
       "        text-align: right;\n",
       "    }\n",
       "</style>\n",
       "<table border=\"1\" class=\"dataframe\">\n",
       "  <thead>\n",
       "    <tr style=\"text-align: right;\">\n",
       "      <th></th>\n",
       "      <th>temperature</th>\n",
       "      <th>luminosity</th>\n",
       "      <th>radius</th>\n",
       "      <th>magnitude_abs</th>\n",
       "      <th>type</th>\n",
       "      <th>color</th>\n",
       "    </tr>\n",
       "  </thead>\n",
       "  <tbody>\n",
       "    <tr>\n",
       "      <th>0</th>\n",
       "      <td>3068</td>\n",
       "      <td>0.0024</td>\n",
       "      <td>0.1700</td>\n",
       "      <td>16.12</td>\n",
       "      <td>0</td>\n",
       "      <td>Red</td>\n",
       "    </tr>\n",
       "    <tr>\n",
       "      <th>1</th>\n",
       "      <td>3042</td>\n",
       "      <td>0.0005</td>\n",
       "      <td>0.1542</td>\n",
       "      <td>16.60</td>\n",
       "      <td>0</td>\n",
       "      <td>Red</td>\n",
       "    </tr>\n",
       "  </tbody>\n",
       "</table>\n",
       "</div>"
      ],
      "text/plain": [
       "   temperature  luminosity  radius  magnitude_abs  type color\n",
       "0         3068      0.0024  0.1700          16.12     0   Red\n",
       "1         3042      0.0005  0.1542          16.60     0   Red"
      ]
     },
     "metadata": {},
     "output_type": "display_data"
    }
   ],
   "source": [
    "# создание словаря с новыми именами столбцов\n",
    "new_column_names = {\n",
    "    \"Temperature (K)\": \"temperature\",\n",
    "    \"Luminosity(L/Lo)\": \"luminosity\",\n",
    "    \"Radius(R/Ro)\": \"radius\",\n",
    "    \"Absolute magnitude(Mv)\": \"magnitude_abs\",\n",
    "    \"Star type\": \"type\",\n",
    "    \"Star color\": \"color\",\n",
    "}\n",
    "# переименование столбцов\n",
    "df = df.rename(columns=new_column_names)\n",
    "\n",
    "# вывод датасета с переименованными столбцами\n",
    "display(df.head(2))"
   ]
  },
  {
   "cell_type": "markdown",
   "id": "63e4b1a8",
   "metadata": {},
   "source": [
    "<div style=\"padding:0px 20px 10px; \n",
    "            color:#004346;\n",
    "            font-size:15px;\n",
    "            display:fill;\n",
    "            text-align:center;\n",
    "            border-radius:20px;\n",
    "            border: 5px double;\n",
    "            border-color:#201E20;\n",
    "            background-color: #E8F1F2;\n",
    "            overflow:hidden;\n",
    "            font-weight:400\"> \n",
    "\n",
    "## Дубликаты\n",
    "    \n",
    "</div>"
   ]
  },
  {
   "cell_type": "code",
   "execution_count": 7,
   "id": "65cd6ae2",
   "metadata": {},
   "outputs": [
    {
     "name": "stdout",
     "output_type": "stream",
     "text": [
      "Количество дубликатов в данных:0\n"
     ]
    }
   ],
   "source": [
    "print(f'Количество дубликатов в данных:{df.duplicated().sum()}')"
   ]
  },
  {
   "cell_type": "markdown",
   "id": "874ad193",
   "metadata": {},
   "source": [
    "<div style=\"padding:0px 20px 10px; \n",
    "            color:#004346;\n",
    "            font-size:15px;\n",
    "            display:fill;\n",
    "            text-align:center;\n",
    "            border-radius:20px;\n",
    "            border: 5px double;\n",
    "            border-color:#201E20;\n",
    "            background-color: #E8F1F2;\n",
    "            overflow:hidden;\n",
    "            font-weight:400\"> \n",
    "\n",
    "## Анализ категориальные признаков\n",
    "    \n",
    "</div>"
   ]
  },
  {
   "cell_type": "markdown",
   "id": "8c8675b9",
   "metadata": {},
   "source": [
    "__Общая информация:__"
   ]
  },
  {
   "cell_type": "code",
   "execution_count": 8,
   "id": "86a71837",
   "metadata": {},
   "outputs": [
    {
     "data": {
      "text/html": [
       "<div>\n",
       "<style scoped>\n",
       "    .dataframe tbody tr th:only-of-type {\n",
       "        vertical-align: middle;\n",
       "    }\n",
       "\n",
       "    .dataframe tbody tr th {\n",
       "        vertical-align: top;\n",
       "    }\n",
       "\n",
       "    .dataframe thead th {\n",
       "        text-align: right;\n",
       "    }\n",
       "</style>\n",
       "<table border=\"1\" class=\"dataframe\">\n",
       "  <thead>\n",
       "    <tr style=\"text-align: right;\">\n",
       "      <th></th>\n",
       "      <th>color</th>\n",
       "    </tr>\n",
       "  </thead>\n",
       "  <tbody>\n",
       "    <tr>\n",
       "      <th>count</th>\n",
       "      <td>240</td>\n",
       "    </tr>\n",
       "    <tr>\n",
       "      <th>unique</th>\n",
       "      <td>19</td>\n",
       "    </tr>\n",
       "    <tr>\n",
       "      <th>top</th>\n",
       "      <td>Red</td>\n",
       "    </tr>\n",
       "    <tr>\n",
       "      <th>freq</th>\n",
       "      <td>112</td>\n",
       "    </tr>\n",
       "  </tbody>\n",
       "</table>\n",
       "</div>"
      ],
      "text/plain": [
       "       color\n",
       "count    240\n",
       "unique    19\n",
       "top      Red\n",
       "freq     112"
      ]
     },
     "metadata": {},
     "output_type": "display_data"
    }
   ],
   "source": [
    "display(df.describe(include=[object]))"
   ]
  },
  {
   "cell_type": "code",
   "execution_count": 9,
   "id": "a1c8601d",
   "metadata": {},
   "outputs": [
    {
     "data": {
      "text/plain": [
       "0    40\n",
       "1    40\n",
       "2    40\n",
       "3    40\n",
       "4    40\n",
       "5    40\n",
       "Name: type, dtype: int64"
      ]
     },
     "execution_count": 9,
     "metadata": {},
     "output_type": "execute_result"
    }
   ],
   "source": [
    "df['type'].value_counts()"
   ]
  },
  {
   "cell_type": "markdown",
   "id": "6653f8ea",
   "metadata": {},
   "source": [
    "__Посмотрим уникальные значения в категориальных признаках:__"
   ]
  },
  {
   "cell_type": "code",
   "execution_count": 10,
   "id": "3270b989",
   "metadata": {},
   "outputs": [
    {
     "name": "stdout",
     "output_type": "stream",
     "text": [
      "Уникальные значения признака color в данных:\n",
      "['Red' 'Blue White' 'White' 'Yellowish White' 'Blue white'\n",
      " 'Pale yellow orange' 'Blue' 'Blue-white' 'Whitish' 'yellow-white'\n",
      " 'Orange' 'White-Yellow' 'white' 'Blue ' 'yellowish' 'Yellowish'\n",
      " 'Orange-Red' 'Blue white ' 'Blue-White']\n"
     ]
    }
   ],
   "source": [
    "print(f'Уникальные значения признака color в данных:\\n{df[\"color\"].unique()}')"
   ]
  },
  {
   "cell_type": "markdown",
   "id": "c0cdf012",
   "metadata": {},
   "source": [
    "<div style=\"padding: 30px 25px; border: 2px #6495ed solid\">\n",
    "    \n",
    "\n",
    "- Категориальный столбец `type` содержит равное количество записей для каждого типа звезд, что свидетельствует о том, что этот признак является репрезентативным.\n",
    "\n",
    "    __Недостатки признака `color`:__\n",
    "- Встречаются записи одного и того же цвета, но в разных регистрах.\n",
    "- Также наблюдаются одинаковые записи цвета с использованием различных разделителей и пробелов.\n",
    "</div>"
   ]
  },
  {
   "cell_type": "markdown",
   "id": "206df339",
   "metadata": {},
   "source": [
    "<div style=\"padding:0px 20px 10px; \n",
    "            color:#004346;\n",
    "            font-size:15px;\n",
    "            display:fill;\n",
    "            text-align:center;\n",
    "            border-radius:20px;\n",
    "            border: 5px double;\n",
    "            border-color:#201E20;\n",
    "            background-color: #E8F1F2;\n",
    "            overflow:hidden;\n",
    "            font-weight:400\"> \n",
    "\n",
    "### Обработка категориальных признаков\n",
    "    \n",
    "</div>"
   ]
  },
  {
   "cell_type": "code",
   "execution_count": 11,
   "id": "739d5e11",
   "metadata": {},
   "outputs": [],
   "source": [
    "# перевод записей в нижний регистр\n",
    "df['color'] = df['color'].str.lower()\n",
    "# стандартизация разделителей\n",
    "df['color'] = df['color'].str.replace('-', ' ')\n",
    "# удаление лишних пробельных символов\n",
    "df['color'] = df['color'].str.strip()"
   ]
  },
  {
   "cell_type": "code",
   "execution_count": 12,
   "id": "d2866667",
   "metadata": {},
   "outputs": [
    {
     "data": {
      "text/plain": [
       "array(['red', 'blue white', 'white', 'yellowish white',\n",
       "       'pale yellow orange', 'blue', 'whitish', 'yellow white', 'orange',\n",
       "       'white yellow', 'yellowish', 'orange red'], dtype=object)"
      ]
     },
     "execution_count": 12,
     "metadata": {},
     "output_type": "execute_result"
    }
   ],
   "source": [
    "df[\"color\"].unique()"
   ]
  },
  {
   "cell_type": "markdown",
   "id": "792cd285",
   "metadata": {},
   "source": [
    "__Рассмотрим распределение количества записей в зависимости от значения признака `color`:__"
   ]
  },
  {
   "cell_type": "code",
   "execution_count": 13,
   "id": "722642ef",
   "metadata": {},
   "outputs": [
    {
     "data": {
      "image/png": "[encoded data removed]",
      "text/plain": [
       "<Figure size 800x400 with 1 Axes>"
      ]
     },
     "metadata": {},
     "output_type": "display_data"
    }
   ],
   "source": [
    "# подсчет количества записей по каждому цвету\n",
    "fig, ax = plt.subplots(figsize=(8, 4)) \n",
    "df['color'].value_counts().plot(kind='bar', ax=ax)\n",
    "plt.xlabel('Цвет')\n",
    "plt.ylabel('Количество записей')\n",
    "plt.title('Распределение записей относительно цвета звезд')\n",
    "# отображение графика\n",
    "plt.show()"
   ]
  },
  {
   "cell_type": "markdown",
   "id": "92879970",
   "metadata": {},
   "source": [
    "<div style=\"padding: 30px 25px; border: 2px #6495ed solid\">\n",
    " \n",
    "Исходя из графика, видно, что количество записей относительно разных цветов распределено неравномерно. Чтобы исправить это, предлагается объединить схожие записи цветов. В рамках этой коррекции, следующие группы цветов будут объединены:\n",
    "\n",
    "- Желтый (yellow) будет включать:\n",
    "\n",
    "     - Yellowish white\n",
    "     - Yellow white\n",
    "     - Yellowish\n",
    "     - Pale yellow orange\n",
    "    \n",
    "- Белый (white) будет включать:\n",
    "\n",
    "     - White\n",
    "     - Whitish\n",
    "     - White yellow\n",
    "    \n",
    "- Оранжевый (orange) будет включать:\n",
    "    \n",
    "     - Orange\n",
    "     - Orange red\n",
    "    \n",
    "Такое объединение цветов основано на том, что в названии цветов более доминирующий цвет указывается слева относительно записи. Это позволит учесть близкие оттенки цветов и сгруппировать их в более общие категории для улучшения репрезентативности и удобочитаемости данных.\n",
    "</div>"
   ]
  },
  {
   "cell_type": "code",
   "execution_count": 14,
   "id": "cb0584fe",
   "metadata": {},
   "outputs": [],
   "source": [
    "# создание словаря\n",
    "replace_color = {\n",
    "    \"yellowish white\": \"yellow\",\n",
    "    \"yellow white\": \"yellow\",\n",
    "    \"yellowish\": \"yellow\",\n",
    "    \"pale yellow orange\": \"yellow\",\n",
    "    \"whitish\": \"white\",\n",
    "    \"white yellow\": \"white\",\n",
    "    \"orange red\": \"orange\",\n",
    "}\n",
    "# укрепление групп\n",
    "df[\"color\"] = df[\"color\"].replace(replace_color).copy()"
   ]
  },
  {
   "cell_type": "code",
   "execution_count": 15,
   "id": "9152d511",
   "metadata": {},
   "outputs": [
    {
     "data": {
      "image/png": "[encoded data removed]",
      "text/plain": [
       "<Figure size 800x400 with 1 Axes>"
      ]
     },
     "metadata": {},
     "output_type": "display_data"
    }
   ],
   "source": [
    "# подсчет количества записей по каждому цвету\n",
    "fig, ax = plt.subplots(figsize=(8, 4)) \n",
    "df['color'].value_counts().plot(kind='bar', ax=ax)\n",
    "plt.xlabel('Цвет')\n",
    "plt.ylabel('Количество записей')\n",
    "plt.title('Распределение записей относительно цвета звезд')\n",
    "# отображение графика\n",
    "plt.show()"
   ]
  },
  {
   "cell_type": "markdown",
   "id": "269a4993",
   "metadata": {},
   "source": [
    "<div style=\"padding: 30px 25px; border: 2px #6495ed solid\">\n",
    "    \n",
    "- Из графика видно, что распределение количества записей стало более сбалансированным после объединения схожих записей цветов. Однако все же остается небольшое количество записей с значением \"orange\" по сравнению с другими группами цветов. Это важное наблюдение, которое следует учесть при дальнейшем анализе данных.\n",
    "</div>"
   ]
  },
  {
   "cell_type": "markdown",
   "id": "1f76bafd",
   "metadata": {},
   "source": [
    "<div style=\"padding:0px 20px 10px; \n",
    "            color:#004346;\n",
    "            font-size:15px;\n",
    "            display:fill;\n",
    "            text-align:center;\n",
    "            border-radius:20px;\n",
    "            border: 5px double;\n",
    "            border-color:#201E20;\n",
    "            background-color: #E8F1F2;\n",
    "            overflow:hidden;\n",
    "            font-weight:400\"> \n",
    "\n",
    "## Анализ числовых признаков\n",
    "    \n",
    "</div>"
   ]
  },
  {
   "cell_type": "code",
   "execution_count": 16,
   "id": "40694899",
   "metadata": {},
   "outputs": [
    {
     "data": {
      "text/html": [
       "<div>\n",
       "<style scoped>\n",
       "    .dataframe tbody tr th:only-of-type {\n",
       "        vertical-align: middle;\n",
       "    }\n",
       "\n",
       "    .dataframe tbody tr th {\n",
       "        vertical-align: top;\n",
       "    }\n",
       "\n",
       "    .dataframe thead th {\n",
       "        text-align: right;\n",
       "    }\n",
       "</style>\n",
       "<table border=\"1\" class=\"dataframe\">\n",
       "  <thead>\n",
       "    <tr style=\"text-align: right;\">\n",
       "      <th></th>\n",
       "      <th>count</th>\n",
       "      <th>mean</th>\n",
       "      <th>std</th>\n",
       "      <th>min</th>\n",
       "      <th>25%</th>\n",
       "      <th>50%</th>\n",
       "      <th>75%</th>\n",
       "      <th>max</th>\n",
       "    </tr>\n",
       "  </thead>\n",
       "  <tbody>\n",
       "    <tr>\n",
       "      <th>temperature</th>\n",
       "      <td>240.0</td>\n",
       "      <td>10497.462500</td>\n",
       "      <td>9552.425037</td>\n",
       "      <td>1939.00000</td>\n",
       "      <td>3344.250000</td>\n",
       "      <td>5776.0000</td>\n",
       "      <td>15055.5000</td>\n",
       "      <td>40000.00</td>\n",
       "    </tr>\n",
       "    <tr>\n",
       "      <th>luminosity</th>\n",
       "      <td>240.0</td>\n",
       "      <td>107188.361635</td>\n",
       "      <td>179432.244940</td>\n",
       "      <td>0.00008</td>\n",
       "      <td>0.000865</td>\n",
       "      <td>0.0705</td>\n",
       "      <td>198050.0000</td>\n",
       "      <td>849420.00</td>\n",
       "    </tr>\n",
       "    <tr>\n",
       "      <th>radius</th>\n",
       "      <td>240.0</td>\n",
       "      <td>237.157781</td>\n",
       "      <td>517.155763</td>\n",
       "      <td>0.00840</td>\n",
       "      <td>0.102750</td>\n",
       "      <td>0.7625</td>\n",
       "      <td>42.7500</td>\n",
       "      <td>1948.50</td>\n",
       "    </tr>\n",
       "    <tr>\n",
       "      <th>magnitude_abs</th>\n",
       "      <td>240.0</td>\n",
       "      <td>4.382396</td>\n",
       "      <td>10.532512</td>\n",
       "      <td>-11.92000</td>\n",
       "      <td>-6.232500</td>\n",
       "      <td>8.3130</td>\n",
       "      <td>13.6975</td>\n",
       "      <td>20.06</td>\n",
       "    </tr>\n",
       "  </tbody>\n",
       "</table>\n",
       "</div>"
      ],
      "text/plain": [
       "               count           mean            std         min          25%  \\\n",
       "temperature    240.0   10497.462500    9552.425037  1939.00000  3344.250000   \n",
       "luminosity     240.0  107188.361635  179432.244940     0.00008     0.000865   \n",
       "radius         240.0     237.157781     517.155763     0.00840     0.102750   \n",
       "magnitude_abs  240.0       4.382396      10.532512   -11.92000    -6.232500   \n",
       "\n",
       "                     50%          75%        max  \n",
       "temperature    5776.0000   15055.5000   40000.00  \n",
       "luminosity        0.0705  198050.0000  849420.00  \n",
       "radius            0.7625      42.7500    1948.50  \n",
       "magnitude_abs     8.3130      13.6975      20.06  "
      ]
     },
     "execution_count": 16,
     "metadata": {},
     "output_type": "execute_result"
    }
   ],
   "source": [
    "# общая информация\n",
    "df[['temperature', 'luminosity', 'radius', 'magnitude_abs']].describe().T"
   ]
  },
  {
   "cell_type": "markdown",
   "id": "da9876d5",
   "metadata": {},
   "source": [
    "- Данные имеют большое стандартное отклонение, что указывает на значительную вариативность.\n",
    "- Явных аномалий в числовых данных нет."
   ]
  },
  {
   "cell_type": "markdown",
   "id": "9d52fa22",
   "metadata": {},
   "source": [
    "__Посмотрим на распределения данных__"
   ]
  },
  {
   "cell_type": "code",
   "execution_count": 17,
   "id": "e4a75a1c",
   "metadata": {},
   "outputs": [
    {
     "data": {
      "image/png": "[encoded data removed]",
      "text/plain": [
       "<Figure size 1000x800 with 4 Axes>"
      ]
     },
     "metadata": {},
     "output_type": "display_data"
    }
   ],
   "source": [
    "fig, axes = plt.subplots(2, 2, figsize=(10, 8)) \n",
    "# гистограмма для 'temperature'\n",
    "axes[0, 0].hist(df['temperature'], bins=10, edgecolor='black')\n",
    "axes[0, 0].set_title('Распределение temperature')\n",
    "# гистограмма для 'luminosity'\n",
    "axes[0, 1].hist(df['luminosity'], bins=10, edgecolor='black')\n",
    "axes[0, 1].set_title('Распределение luminosity')\n",
    "# гистограмма для 'radius'\n",
    "axes[1, 0].hist(df['radius'], bins=10, edgecolor='black')\n",
    "axes[1, 0].set_title('Распределение radius')\n",
    "# гистограмма для 'magnitude_abs'\n",
    "axes[1, 1].hist(df['magnitude_abs'], bins=10, edgecolor='black')\n",
    "axes[1, 1].set_title('Распределение magnitude_abs')\n",
    "\n",
    "plt.suptitle('Распределения числовых признаков')\n",
    "\n",
    "plt.tight_layout()\n",
    "plt.show()"
   ]
  },
  {
   "cell_type": "markdown",
   "id": "ae22d966",
   "metadata": {},
   "source": [
    "<div style=\"padding: 30px 25px; border: 2px #6495ed solid\">\n",
    "    \n",
    "- На графиках 'temperature', 'luminosity', 'radius' видно, что распределение ассимитрично вправо, что визуально подтверждает, табличные данные о большом значении стандартного отклонения.\n",
    "- Так же стоит отметить схожесть графиков, что может быть признаком линейных зависимостей между этими признаками. Таким образом, светимость, возможно, достаточно точно отражает как и энергию звезды, так и ее радиус.\n",
    "- Абсолютная звёздная величина, график magnitude_abs, имеет симметричное увеличение в обе стороны, что говорит о нисзком количестве схожиж звезд, по данному показателю, среди изученных\n",
    "</div>"
   ]
  },
  {
   "cell_type": "markdown",
   "id": "e3c9f207",
   "metadata": {},
   "source": [
    "### Корреляции между числовыми признаками"
   ]
  },
  {
   "cell_type": "markdown",
   "id": "11bfa4aa",
   "metadata": {},
   "source": [
    "__Линейные взаимосвязи числовых данных__"
   ]
  },
  {
   "cell_type": "code",
   "execution_count": 18,
   "id": "671c0e41",
   "metadata": {},
   "outputs": [
    {
     "data": {
      "image/png": "[encoded data removed]",
      "text/plain": [
       "<Figure size 800x600 with 2 Axes>"
      ]
     },
     "metadata": {},
     "output_type": "display_data"
    }
   ],
   "source": [
    "corr_matrix = df[['temperature', 'luminosity', 'radius', 'magnitude_abs']].corr()\n",
    "# heatmap\n",
    "plt.figure(figsize=(8, 6))\n",
    "sns.heatmap(corr_matrix, annot=True, cmap='coolwarm', vmin=-1, vmax=1)\n",
    "plt.title('Матрица корреляции r-Пирсона')\n",
    "\n",
    "plt.show()"
   ]
  },
  {
   "cell_type": "markdown",
   "id": "8bdba78f",
   "metadata": {},
   "source": [
    "<div style=\"padding: 30px 25px; border: 2px #6495ed solid\">\n",
    "    \n",
    "Предоставленные данные указывают на наличие линейных зависимостей между некоторыми признаками. В частности, обнаружены следующие линейные связи:\n",
    "\n",
    "- Между температурой и светимостью: Коэффициент корреляции равен 0.39. Это указывает на положительную линейную зависимость между этими двумя признаками. При увеличении температуры возможно увеличение светимости, хотя сила и направление этой зависимости могут быть ограничены.\n",
    "\n",
    "- Между светимостью и радиусом: Коэффициент корреляции равен 0.53. Это также указывает на положительную линейную зависимость между светимостью и радиусом. Большая светимость может быть связана с более большим радиусом звезды, хотя здесь также могут существовать другие факторы, влияющие на эту зависимость.\n",
    "\n",
    "Учет этих линейных связей между признаками позволяет лучше понять физические свойства и характеристики звезд. Однако стоит отметить, что линейные связи не всегда являются единственными или полными моделями взаимосвязи между признаками, и возможно наличие иных более сложных взаимосвязей, которые следует учитывать в дальнейшем анализе.\n",
    "</div>"
   ]
  },
  {
   "cell_type": "code",
   "execution_count": 19,
   "id": "7a793eec",
   "metadata": {},
   "outputs": [
    {
     "name": "stdout",
     "output_type": "stream",
     "text": [
      "interval columns not set, guessing: ['temperature', 'luminosity', 'radius', 'magnitude_abs']\n"
     ]
    },
    {
     "data": {
      "text/html": [
       "<div>\n",
       "<style scoped>\n",
       "    .dataframe tbody tr th:only-of-type {\n",
       "        vertical-align: middle;\n",
       "    }\n",
       "\n",
       "    .dataframe tbody tr th {\n",
       "        vertical-align: top;\n",
       "    }\n",
       "\n",
       "    .dataframe thead th {\n",
       "        text-align: right;\n",
       "    }\n",
       "</style>\n",
       "<table border=\"1\" class=\"dataframe\">\n",
       "  <thead>\n",
       "    <tr style=\"text-align: right;\">\n",
       "      <th></th>\n",
       "      <th>temperature</th>\n",
       "      <th>luminosity</th>\n",
       "      <th>radius</th>\n",
       "      <th>magnitude_abs</th>\n",
       "    </tr>\n",
       "  </thead>\n",
       "  <tbody>\n",
       "    <tr>\n",
       "      <th>temperature</th>\n",
       "      <td>1.000000</td>\n",
       "      <td>0.561692</td>\n",
       "      <td>0.236090</td>\n",
       "      <td>0.709280</td>\n",
       "    </tr>\n",
       "    <tr>\n",
       "      <th>luminosity</th>\n",
       "      <td>0.561692</td>\n",
       "      <td>1.000000</td>\n",
       "      <td>0.574964</td>\n",
       "      <td>0.709456</td>\n",
       "    </tr>\n",
       "    <tr>\n",
       "      <th>radius</th>\n",
       "      <td>0.236090</td>\n",
       "      <td>0.574964</td>\n",
       "      <td>1.000000</td>\n",
       "      <td>0.512414</td>\n",
       "    </tr>\n",
       "    <tr>\n",
       "      <th>magnitude_abs</th>\n",
       "      <td>0.709280</td>\n",
       "      <td>0.709456</td>\n",
       "      <td>0.512414</td>\n",
       "      <td>1.000000</td>\n",
       "    </tr>\n",
       "  </tbody>\n",
       "</table>\n",
       "</div>"
      ],
      "text/plain": [
       "               temperature  luminosity    radius  magnitude_abs\n",
       "temperature       1.000000    0.561692  0.236090       0.709280\n",
       "luminosity        0.561692    1.000000  0.574964       0.709456\n",
       "radius            0.236090    0.574964  1.000000       0.512414\n",
       "magnitude_abs     0.709280    0.709456  0.512414       1.000000"
      ]
     },
     "metadata": {},
     "output_type": "display_data"
    }
   ],
   "source": [
    "phik_overview = df[['temperature', 'luminosity', 'radius', 'magnitude_abs']].phik_matrix()\n",
    "display(phik_overview)"
   ]
  },
  {
   "cell_type": "code",
   "execution_count": 20,
   "id": "6934f9db",
   "metadata": {},
   "outputs": [
    {
     "data": {
      "image/png": "[encoded data removed]",
      "text/plain": [
       "<Figure size 800x600 with 2 Axes>"
      ]
     },
     "metadata": {},
     "output_type": "display_data"
    }
   ],
   "source": [
    "# heatmap\n",
    "plt.figure(figsize=(8, 6))\n",
    "sns.heatmap(phik_overview, annot=True, cmap='coolwarm', vmin=0, vmax=1)\n",
    "plt.title('Матрица корреляции phik')\n",
    "\n",
    "plt.show()"
   ]
  },
  {
   "cell_type": "markdown",
   "id": "1c9ffacf",
   "metadata": {},
   "source": [
    "<div style=\"padding: 30px 25px; border: 2px #6495ed solid\">\n",
    "\n",
    "Согласно предоставленным данным, наблюдаются сильные нелинейные взаимосвязи между различными признаками, такими как температура, светимость, радиус и абсолютная величина звезд.\n",
    "\n",
    "Присутствие таких нелинейных взаимосвязей подтверждает потенциал использования алгоритмов нейросетей для определения температуры на поверхности обнаруженных звезд. Нейронные сети могут эффективно обнаруживать и моделировать сложные нелинейные взаимосвязи в данных и строить предсказательные модели, которые учитывают эти взаимосвязи. Это позволяет получить более точные и надежные прогнозы температуры на основе других характеристик звезды.\n",
    "\n",
    "Однако важно отметить, что выбор и конфигурация алгоритмов нейросетей требует тщательного исследования, обучения и оптимизации. Это поможет достичь наилучших результатов и гарантировать, что модель нейросети адекватно учитывает нелинейные взаимосвязи в данных для определения температуры на поверхности звезд.\n",
    "</div>"
   ]
  },
  {
   "cell_type": "markdown",
   "id": "6e60cd12",
   "metadata": {},
   "source": [
    "<div style=\"padding:0px 20px 10px; \n",
    "            color:#004346;\n",
    "            font-size:15px;\n",
    "            display:fill;\n",
    "            text-align:center;\n",
    "            border-radius:20px;\n",
    "            border: 5px double;\n",
    "            border-color:#201E20;\n",
    "            background-color: #E8F1F2;\n",
    "            overflow:hidden;\n",
    "            font-weight:400\"> \n",
    "\n",
    "# Подготовка данных к построению модели\n",
    "    \n",
    "</div>"
   ]
  },
  {
   "cell_type": "markdown",
   "id": "74d5914a",
   "metadata": {},
   "source": [
    "- Разделение данных: Разделим данные на тренировочную и тестовую выборки. Поскольку у вас ограниченное количество наблюдений, оставить 20% данных для тестирования модели, а остальные 80% используем для обучения модели.\n",
    "- Нормализация числовых данных: Произведем нормализацию числовых данных, чтобы все признаки имели сопоставимые диапазоны значений. Нормализация поможет стабилизировать обучение модели и предотвратить преимущественное влияние признаков с большими значениями.\n",
    "- Преобразование категориальных данных в унитарный код: Категориальные данные, такие как цвет или тип звезды, необходимо преобразовать в унитарный код (one-hot encoding). Это позволит представить каждое категориальное значение в виде бинарного вектора, где каждый столбец соответствует определенной категории. Такое представление позволит модели учиться на категориальных данных."
   ]
  },
  {
   "cell_type": "markdown",
   "id": "906febf6",
   "metadata": {},
   "source": [
    "## Выделение обучающей и тестовой выборок"
   ]
  },
  {
   "cell_type": "code",
   "execution_count": 21,
   "id": "b35b7a3c",
   "metadata": {},
   "outputs": [],
   "source": [
    "X = df.drop('temperature', axis=1)\n",
    "y = df['temperature'] # целевой признак"
   ]
  },
  {
   "cell_type": "code",
   "execution_count": 22,
   "id": "7166ff32",
   "metadata": {},
   "outputs": [],
   "source": [
    "# формирование выборок\n",
    "X_train, X_test, y_train, y_test = train_test_split(X, y, test_size=0.2, random_state=RANDOM_SEED)"
   ]
  },
  {
   "cell_type": "code",
   "execution_count": 23,
   "id": "47a75e1b",
   "metadata": {},
   "outputs": [
    {
     "name": "stdout",
     "output_type": "stream",
     "text": [
      "Размерность X_train: (192, 5) - 80%\n",
      "Размерность X_test: (48, 5) - 20%\n",
      "Размерность y_train: (192,) - 80%\n",
      "Размерность y_test: (48,) - 20%\n"
     ]
    }
   ],
   "source": [
    "# проверка размерности выборок\n",
    "for x in ['X_train', 'X_test', 'y_train', 'y_test']:\n",
    "    print(f'Размерность {x}: {globals()[x].shape} - {len(globals()[x])/len(df):.0%}')"
   ]
  },
  {
   "cell_type": "markdown",
   "id": "f3af7352",
   "metadata": {},
   "source": [
    "## Нормализация входных данных"
   ]
  },
  {
   "cell_type": "code",
   "execution_count": 24,
   "id": "746da0ba",
   "metadata": {},
   "outputs": [],
   "source": [
    "categorical_columns = [\"type\", \"color\"]\n",
    "numeric_columns = [\"luminosity\", \"radius\", \"magnitude_abs\"]\n",
    "\n",
    "col_transformer = ColumnTransformer(\n",
    "    transformers=[\n",
    "        (\"scaler\", StandardScaler(), numeric_columns), # преобразование числовых данных\n",
    "        (\"ohe\", OneHotEncoder(sparse_output=False), categorical_columns), # преобразование категориальных данных\n",
    "    ],\n",
    "    remainder=\"passthrough\",\n",
    "    n_jobs=-1\n",
    ")\n",
    "# преобразование данных\n",
    "X_train = col_transformer.fit_transform(X_train)\n",
    "X_test = col_transformer.transform(X_test)"
   ]
  },
  {
   "cell_type": "markdown",
   "id": "96de6a13",
   "metadata": {},
   "source": [
    "## Создание тензеров"
   ]
  },
  {
   "cell_type": "code",
   "execution_count": 27,
   "id": "3c15d1af",
   "metadata": {},
   "outputs": [
    {
     "name": "stdout",
     "output_type": "stream",
     "text": [
      "Размерность X_train_tensor: torch.Size([192, 15])\n",
      "Размерность X_test_tensor: torch.Size([48, 15])\n",
      "Размерность y_train_tensor: torch.Size([192])\n",
      "Размерность y_test_tensor: torch.Size([48])\n"
     ]
    }
   ],
   "source": [
    "# преобразование выборок в тензоры\n",
    "X_train_tensor = torch.Tensor(X_train)\n",
    "X_test_tensor = torch.Tensor(X_test)\n",
    "y_train_tensor = torch.Tensor(y_train.values)\n",
    "y_test_tensor = torch.Tensor(y_test.values)\n",
    "# проверка размерности тензоров\n",
    "for x in ['X_train_tensor', 'X_test_tensor', 'y_train_tensor', 'y_test_tensor']:\n",
    "    print(f'Размерность {x}: {globals()[x].shape}')"
   ]
  },
  {
   "cell_type": "markdown",
   "id": "8906d0e7",
   "metadata": {},
   "source": [
    "<div style=\"padding:0px 20px 10px; \n",
    "            color:#004346;\n",
    "            font-size:15px;\n",
    "            display:fill;\n",
    "            text-align:center;\n",
    "            border-radius:20px;\n",
    "            border: 5px double;\n",
    "            border-color:#201E20;\n",
    "            background-color: #E8F1F2;\n",
    "            overflow:hidden;\n",
    "            font-weight:400\"> \n",
    "\n",
    "# Построение простой модели нейронной сети — baseline\n",
    "    \n",
    "</div>"
   ]
  },
  {
   "cell_type": "markdown",
   "id": "e19d8604",
   "metadata": {},
   "source": [
    "__Архитектура нейронной сети:__\n",
    "\n",
    "1 Входной слой:\n",
    "\n",
    "   - Размерность входных данных определяется переменной input_size и равен количеству признаков.\n",
    "   - Этот слой представлен в виде линейного слоя (nn.Linear), который принимает входные данные и производит линейную трансформацию с помощью весов и смещения.\n",
    "   \n",
    "2 Скрытые слои:\n",
    "\n",
    "   - В данной архитектуре нейронной сети используем три скрытых слоя.\n",
    "   - Каждый скрытый слой состоит из линейного слоя (nn.Linear), за которым следует функция активации.\n",
    "   - Функции активации, используемые в этой архитектуре, включают ReLU (nn.ReLU()), гиперболический тангенс (nn.Tanh()) и LeakyReLU (nn.LeakyReLU()).\n",
    "   - Размеры скрытого слоя определяются переменными hidden_size_1, hidden_size_2, hidden_size_3, hidden_size_4.\n",
    "   \n",
    "3 Выходной слой:\n",
    "\n",
    "   - Выходной слой представлен линейным слоем (nn.Linear), который преобразует выходные значения скрытых слоев в одно число.\n",
    "   - В данном случае, поскольку решается задача регрессии, выходной слой имеет размерность 1 и задается переменной output_size."
   ]
  },
  {
   "cell_type": "code",
   "execution_count": 562,
   "id": "56367db1",
   "metadata": {},
   "outputs": [],
   "source": [
    "# определение архитектуры нейронной сети\n",
    "class Net(nn.Module):\n",
    "    def __init__(self, input_size, hidden_size_1, hidden_size_2, hidden_size_3, output_size):\n",
    "        super(Net, self).__init__()\n",
    "        self.fc1 = nn.Linear(input_size, hidden_size_1)\n",
    "        self.activation1 = nn.ReLU()\n",
    "        self.fc2 = nn.Linear(hidden_size_1, hidden_size_2)\n",
    "        self.activation2 = nn.Tanh()\n",
    "        self.fc3 = nn.Linear(hidden_size_2, hidden_size_3)\n",
    "        self.activation3 = nn.ReLU()\n",
    "        self.fc4 = nn.Linear(hidden_size_3, hidden_size_4)\n",
    "        self.activation4 = nn.LeakyReLU()\n",
    "        self.fc5 = nn.Linear(hidden_size_4, output_size)\n",
    "        \n",
    "    def forward(self, x):\n",
    "        x = self.activation1(self.fc1(x))\n",
    "        x = self.activation2(self.fc2(x))\n",
    "        x = self.activation3(self.fc3(x))\n",
    "        x = self.activation4(self.fc4(x))\n",
    "        x = self.fc5(x)\n",
    "        return x"
   ]
  },
  {
   "cell_type": "code",
   "execution_count": 563,
   "id": "cf98b877",
   "metadata": {},
   "outputs": [],
   "source": [
    "# параметры нейронной сети\n",
    "input_size = X_train_tensor.shape[1]  # размер входных данных\n",
    "hidden_size_1 = 50  # размер 1-го скрытого слоя\n",
    "hidden_size_2 = 40  # размер 2-го скрытого слоя\n",
    "hidden_size_3 = 5  # размер 3-го скрытого слоя\n",
    "hidden_size_4 = 45  # размер 4-го скрытого слоя\n",
    "output_size = 1     # размер выходного слоя\n",
    "learning_rate = 0.01  # скорость обучения\n",
    "\n",
    "num_epochs = 100  # количество эпох обучения\n",
    "batch_size = 32  # размер пакета"
   ]
  },
  {
   "cell_type": "code",
   "execution_count": 564,
   "id": "81d2cdf9",
   "metadata": {},
   "outputs": [],
   "source": [
    "# экземпляр нейронной сети\n",
    "model = Net(input_size, hidden_size_1, hidden_size_2, hidden_size_3, output_size)\n",
    "# функция потерь\n",
    "criterion = nn.MSELoss()\n",
    "# оптимизатор\n",
    "optimizer = optim.Adam(model.parameters(), lr=learning_rate)"
   ]
  },
  {
   "cell_type": "code",
   "execution_count": 565,
   "id": "e40eff8c",
   "metadata": {},
   "outputs": [
    {
     "name": "stdout",
     "output_type": "stream",
     "text": [
      "Epoch 0 loss: 193168041 RMSE: 13898\n",
      "Epoch 10 loss: 174031408 RMSE: 13192\n",
      "Epoch 20 loss: 87733273 RMSE: 9367\n",
      "Epoch 30 loss: 59343635 RMSE: 7703\n",
      "Epoch 40 loss: 27251126 RMSE: 5220\n",
      "Epoch 50 loss: 19750865 RMSE: 4444\n",
      "Epoch 60 loss: 20099129 RMSE: 4483\n",
      "Epoch 70 loss: 19208952 RMSE: 4383\n",
      "Epoch 80 loss: 19184698 RMSE: 4380\n",
      "Epoch 90 loss: 19100066 RMSE: 4370\n",
      "Epoch 99 loss: 19030055 RMSE: 4362\n"
     ]
    }
   ],
   "source": [
    "# обучение\n",
    "for epoch in range(num_epochs):\n",
    "    running_loss = 0.0\n",
    "    for i in range(0, X_train_tensor.shape[0], batch_size):\n",
    "        inputs = X_train_tensor[i:i+batch_size]\n",
    "        labels = y_train_tensor[i:i+batch_size]\n",
    "\n",
    "        optimizer.zero_grad()\n",
    "\n",
    "        outputs = model(inputs)\n",
    "        labels = labels.unsqueeze(1) \n",
    "        loss = criterion(outputs, labels)\n",
    "        loss.backward()\n",
    "        optimizer.step()\n",
    "\n",
    "        running_loss += loss.item()\n",
    "    \n",
    "    epoch_loss = running_loss / (X_train_tensor.shape[0] // batch_size)\n",
    "    # вывод результатов каждой десятой и последней эпох:\n",
    "    if epoch % 10 == 0 or epoch == num_epochs - 1:\n",
    "        print(f\"Epoch {epoch} loss: {round(epoch_loss)} RMSE: {round(sqrt(epoch_loss))}\")"
   ]
  },
  {
   "cell_type": "markdown",
   "id": "a269ceb4",
   "metadata": {},
   "source": [
    "<div class=\"alert alert-success\">\n",
    "<b>Комментарий ревьюера ✔️:</b>\n",
    "\n",
    "Да, хорошо, либо можно сгладить выход, так как сейчас модель возвращает `[[0], [1]]`, а нужно `[0, 1]` \n",
    "    \n",
    "В `PyTorch` параметр `start_dim` в методе `flatten()` указывает на размерность тензора, начиная с которой происходит сглаживание `(flatten)`.\n",
    "\n",
    "При использовании `start_dim=0`, весь тензор будет сглажен в одномерный вектор, начиная с первого элемента. Если указать `start_dim=1`, то первый элемент тензора останется без изменения, а остальные элементы будут сглажены. Если start_dim=2, то первые две размерности тензора останутся без изменения, а все остальные размерности будут сглажены в одномерный вектор. И так далее.\n",
    "\n",
    "    \n",
    "Поэтому получаем:    \n",
    "   \n",
    "```python\n",
    "class Net(nn.Module):\n",
    "    def __init__(self):\n",
    "        super(Net, self).__init__()  \n",
    "        self.fc1= nn.Linear(in_neurons,n_hidden_neurons)\n",
    "        self.fc2= nn.Linear(n_hidden_neurons,n_oout_neurons)\n",
    "        self.relu = nn.ReLU()\n",
    "        self.flatten = nn.Flatten(start_dim=0)\n",
    "    def forward(self,x):\n",
    "        x = self.fc1(x)\n",
    "        x = self.relu(x)\n",
    "        x = self.fc2(x)\n",
    "        x = self.relu(x)\n",
    "        return self.flatten(x)        \n",
    "```\n",
    "\n",
    "---------------\n",
    "    \n",
    "    \n",
    "Можно еще отключить вычисление градиентов```with torch.no_grad()```:\n",
    "    \n",
    "```python\n",
    "    for epoch in range(num_epochs):\n",
    "        model.train()\n",
    "        <your code>\n",
    "        if epoch % 1000 == 0:\n",
    "            with torch.no_grad():\n",
    "                model.eval()\n",
    "                <your code>\n",
    "```\n",
    "\n",
    "Чтобы не подбирать кол-во эпох, можно воспользоваться EarlyStopping:\n",
    "                \n",
    "+  https://debuggercafe.com/using-learning-rate-scheduler-and-early-stopping-with-pytorch/\n",
    "          \n",
    "                \n",
    "P.S Еще бы произвести визуализацию обучения, чтобы можно было убедиться: а дообучили ли мы модель или у нас переобучение  \n",
    "\n",
    "\n",
    "</div>\n"
   ]
  },
  {
   "cell_type": "code",
   "execution_count": 566,
   "id": "b849f4d5",
   "metadata": {},
   "outputs": [
    {
     "name": "stdout",
     "output_type": "stream",
     "text": [
      "RMSE на тестовых данных: 5778\n"
     ]
    }
   ],
   "source": [
    "# проверка на тестовых данных\n",
    "with torch.no_grad():\n",
    "    y_pred_tensor = model(X_test_tensor)\n",
    "    y_pred = y_pred_tensor.numpy().flatten()\n",
    "    rmse = sqrt(mean_squared_error(y_test_tensor, y_pred))\n",
    "    print(f'RMSE на тестовых данных: {round(rmse)}')"
   ]
  },
  {
   "cell_type": "markdown",
   "id": "07152f92",
   "metadata": {},
   "source": [
    "__Визуализация результатов:__"
   ]
  },
  {
   "cell_type": "code",
   "execution_count": 567,
   "id": "f83bdf4f",
   "metadata": {},
   "outputs": [
    {
     "data": {
      "image/png": "[encoded data removed]",
      "text/plain": [
       "<Figure size 1000x600 with 1 Axes>"
      ]
     },
     "metadata": {},
     "output_type": "display_data"
    }
   ],
   "source": [
    "actual_values = y_test_tensor.numpy().flatten()\n",
    "predicted_values = y_pred_tensor.numpy().flatten()\n",
    "# условные номера звезд\n",
    "star_numbers = range(1, len(actual_values) + 1)\n",
    "\n",
    "bar_width = 0.4 # ширина столбцов\n",
    "\n",
    "plt.figure(figsize=(10, 6))\n",
    "plt.bar(star_numbers, actual_values, width=bar_width, label='Факт', align='center')\n",
    "plt.bar(np.array(star_numbers) + bar_width, predicted_values, width=bar_width, label='Прогноз', align='center')\n",
    "plt.xlabel('Условные номера звёзд')\n",
    "plt.ylabel('Температура (Кельвины)')\n",
    "plt.title('Столбчатая диаграмма \"Факт - Прогноз\"')\n",
    "plt.legend()\n",
    "plt.grid(True)\n",
    "plt.xticks(star_numbers)\n",
    "plt.show()"
   ]
  },
  {
   "cell_type": "markdown",
   "id": "5a96cc5b",
   "metadata": {},
   "source": [
    "<div style=\"padding: 30px 25px; border: 2px #6495ed solid\">\n",
    "    \n",
    "    - Метрика качества простой модели нейронной сети на тестовых данных составила 5778, что ниже заявленного минимума.\n",
    "    - По графику \"Факт - Прогноз\" видно, что модель прохо предсказывает температуру наиболее горячих звезд, давая более усредненные значение.\n",
    "    - Одной из очивидных причин этого следует отметить, низкое количечество записей.\n",
    "    - В дальшейшем попробуем усовершенствовать алгоритм, подбором параметров, таких как размер пакета обучения, использование метода «dropout» и др.\n",
    "    \n",
    "</div>"
   ]
  },
  {
   "cell_type": "markdown",
   "id": "8ef07c63",
   "metadata": {},
   "source": [
    " <div class=\"alert alert-success\">\n",
    "<b>Комментарий ревьюера ✔️:</b> Хорошо\n",
    "</div>\n",
    "            \n",
    "            \n",
    "            "
   ]
  },
  {
   "cell_type": "markdown",
   "id": "d5120ace",
   "metadata": {},
   "source": [
    "<div style=\"padding:0px 20px 10px; \n",
    "            color:#004346;\n",
    "            font-size:15px;\n",
    "            display:fill;\n",
    "            text-align:center;\n",
    "            border-radius:20px;\n",
    "            border: 5px double;\n",
    "            border-color:#201E20;\n",
    "            background-color: #E8F1F2;\n",
    "            overflow:hidden;\n",
    "            font-weight:400\"> \n",
    "\n",
    "# Улучшение нейронной сети\n",
    "    \n",
    "</div>"
   ]
  },
  {
   "cell_type": "markdown",
   "id": "cab1f547",
   "metadata": {},
   "source": [
    "- Добавим технику регуляризации Dropout, которая поможет улучшить обобщающую способность нейронной сети и снизит риск переобучения.\n",
    "- Используем подбор значений Dropout и размера пакета обучения\n",
    "- В процессе подбора сохраним наилучшую модель и ее предсказание, для дальнейшей визуализации."
   ]
  },
  {
   "cell_type": "code",
   "execution_count": 556,
   "id": "526c44a8",
   "metadata": {},
   "outputs": [],
   "source": [
    "# архитектура нейронной сети\n",
    "class Net(nn.Module):\n",
    "    def __init__(self, input_size, hidden_size_1, hidden_size_2, hidden_size_25, hidden_size_3, output_size, dropout_prob):\n",
    "        super(Net, self).__init__()\n",
    "        self.fc1 = nn.Linear(input_size, hidden_size_1)\n",
    "        self.activation1 = nn.ReLU()\n",
    "        self.dropout1 = nn.Dropout(dropout_prob)\n",
    "        self.fc2 = nn.Linear(hidden_size_1, hidden_size_2)\n",
    "        self.activation2 = nn.Tanh()\n",
    "        self.fc3 = nn.Linear(hidden_size_2, hidden_size_3)\n",
    "        self.activation3 = nn.ReLU()\n",
    "        self.fc4 = nn.Linear(hidden_size_3, hidden_size_4)\n",
    "        self.activation4 = nn.LeakyReLU()\n",
    "        self.fc5 = nn.Linear(hidden_size_4, output_size)\n",
    "\n",
    "    def forward(self, x):\n",
    "        x = self.activation1(self.fc1(x))\n",
    "        x = self.dropout1(x)\n",
    "        x = self.fc2(x)\n",
    "        x = self.activation2(x)\n",
    "        x = self.activation3(self.fc3(x))\n",
    "        x = self.activation4(self.fc4(x))\n",
    "        x = self.fc5(x)\n",
    "        return x"
   ]
  },
  {
   "cell_type": "code",
   "execution_count": 557,
   "id": "5eb62cd7",
   "metadata": {},
   "outputs": [],
   "source": [
    "# параметры нейронной сети\n",
    "input_size = X_train_tensor.shape[1]  # размер входных данных\n",
    "hidden_size_1 = 50  # размер 1-го скрытого слоя\n",
    "hidden_size_2 = 40  # размер 2-го скрытого слоя\n",
    "hidden_size_3 = 5  # размер 3-го скрытого слоя\n",
    "hidden_size_4 = 45  # размер 4-го скрытого слоя\n",
    "output_size = 1     # размер выходного слоя\n",
    "learning_rate = 0.01  # скорость обучения\n",
    "num_epochs = 100  # количество эпох обучения\n",
    "# значения для dropout и размера батча\n",
    "param_grid = {\n",
    "    'dropout': [0.1, 0.2, 0.3, 0.4, 0.5],\n",
    "    'batch_size': [8, 16, 32, 64, 128]\n",
    "}"
   ]
  },
  {
   "cell_type": "code",
   "execution_count": 558,
   "id": "a1b020e7",
   "metadata": {},
   "outputs": [],
   "source": [
    "# переменные для сохранения лучших показателей\n",
    "best_rmse = float('inf')\n",
    "best_params = {}\n",
    "best_model = None\n",
    "best_predict = None\n",
    "# возможные комбинации параметров\n",
    "parameter_combinations = ParameterGrid(param_grid)"
   ]
  },
  {
   "cell_type": "code",
   "execution_count": 559,
   "id": "b15ea118",
   "metadata": {
    "scrolled": true
   },
   "outputs": [
    {
     "name": "stdout",
     "output_type": "stream",
     "text": [
      "Dropout: 0.1, Batch Size: 8, RMSE: 4871.904555715352\n",
      "Dropout: 0.2, Batch Size: 8, RMSE: 4820.00311203219\n",
      "Dropout: 0.3, Batch Size: 8, RMSE: 4617.015486220509\n",
      "Dropout: 0.4, Batch Size: 8, RMSE: 4680.181406740555\n",
      "Dropout: 0.5, Batch Size: 8, RMSE: 4388.817380570761\n",
      "Dropout: 0.1, Batch Size: 16, RMSE: 5206.435248805078\n",
      "Dropout: 0.2, Batch Size: 16, RMSE: 5831.310315872412\n",
      "Dropout: 0.3, Batch Size: 16, RMSE: 4640.953565809509\n",
      "Dropout: 0.4, Batch Size: 16, RMSE: 4863.979646338994\n",
      "Dropout: 0.5, Batch Size: 16, RMSE: 5175.0996125678585\n",
      "Dropout: 0.1, Batch Size: 32, RMSE: 5762.0281151691715\n",
      "Dropout: 0.2, Batch Size: 32, RMSE: 4949.4524949735605\n",
      "Dropout: 0.3, Batch Size: 32, RMSE: 4709.9188952677305\n",
      "Dropout: 0.4, Batch Size: 32, RMSE: 4815.305597778816\n",
      "Dropout: 0.5, Batch Size: 32, RMSE: 4958.858941329144\n",
      "Dropout: 0.1, Batch Size: 64, RMSE: 5711.049640827858\n",
      "Dropout: 0.2, Batch Size: 64, RMSE: 5086.253434503633\n",
      "Dropout: 0.3, Batch Size: 64, RMSE: 4957.541326101074\n",
      "Dropout: 0.4, Batch Size: 64, RMSE: 4784.40571022149\n",
      "Dropout: 0.5, Batch Size: 64, RMSE: 4727.168497102679\n",
      "Dropout: 0.1, Batch Size: 128, RMSE: 10267.927931184558\n",
      "Dropout: 0.2, Batch Size: 128, RMSE: 5970.564797404011\n",
      "Dropout: 0.3, Batch Size: 128, RMSE: 6371.57249036688\n",
      "Dropout: 0.4, Batch Size: 128, RMSE: 5767.5781745894\n",
      "Dropout: 0.5, Batch Size: 128, RMSE: 4938.747007085906\n"
     ]
    }
   ],
   "source": [
    "# цикл по комбинациям параметров\n",
    "for params in parameter_combinations:\n",
    "    dropout = params['dropout']\n",
    "    batch_size = params['batch_size']\n",
    "\n",
    "    # экземпляра нейросети с текущими значениями dropout и размера батча\n",
    "    model = Net(input_size, hidden_size_1, hidden_size_2, hidden_size_3, hidden_size_4, output_size, dropout_prob=dropout)\n",
    "    # определение функции потерь и оптимизатора\n",
    "    criterion = nn.MSELoss()\n",
    "    optimizer = optim.Adam(model.parameters(), lr=learning_rate)\n",
    "    # обучение и оценка модели с новыми значениями dropout и размера батча\n",
    "    for epoch in range(num_epochs):\n",
    "        running_loss = 0.0\n",
    "        for i in range(0, X_train_tensor.shape[0], batch_size):\n",
    "            inputs = X_train_tensor[i:i+batch_size]\n",
    "            labels = y_train_tensor[i:i+batch_size]\n",
    "\n",
    "            optimizer.zero_grad()\n",
    "\n",
    "            outputs = model(inputs)\n",
    "            labels = labels.unsqueeze(1) \n",
    "            loss = criterion(outputs, labels)\n",
    "            loss.backward()\n",
    "            optimizer.step()\n",
    "\n",
    "            running_loss += loss.item()\n",
    "\n",
    "        epoch_loss = running_loss / (X_train_tensor.shape[0] // batch_size)\n",
    "\n",
    "    # оценка модели на тестовых данных\n",
    "    with torch.no_grad():\n",
    "        y_pred_tensor = model(X_test_tensor)\n",
    "        y_pred = y_pred_tensor.numpy().flatten()\n",
    "        rmse = sqrt(mean_squared_error(y_test_tensor, y_pred))\n",
    "\n",
    "    # вывод результатов для текущей комбинации параметров\n",
    "    print(f\"Dropout: {dropout}, Batch Size: {batch_size}, RMSE: {rmse}\")\n",
    "\n",
    "    # обновление наилучших результатов, если получен более лучший RMSE\n",
    "    if rmse < best_rmse:\n",
    "        best_rmse = rmse\n",
    "        best_params = {'dropout': dropout, 'batch_size': batch_size}\n",
    "        best_model = model\n",
    "        best_predict = y_pred"
   ]
  },
  {
   "cell_type": "code",
   "execution_count": 561,
   "id": "8bf3849b",
   "metadata": {},
   "outputs": [
    {
     "name": "stdout",
     "output_type": "stream",
     "text": [
      "Best RMSE: 4388.817380570761\n",
      "Best Parameters: {'dropout': 0.5, 'batch_size': 8}\n"
     ]
    }
   ],
   "source": [
    "# вывод наилучшего результата\n",
    "print(f\"Best RMSE: {best_rmse}\")\n",
    "print(f\"Best Parameters: {best_params}\")"
   ]
  },
  {
   "cell_type": "markdown",
   "id": "0498b9c3",
   "metadata": {},
   "source": [
    " <div class=\"alert alert-success\">\n",
    "<b>Комментарий ревьюера ✔️:</b> Отлично, получился шикарный результат\n",
    "</div>\n",
    "            \n",
    "            \n",
    "            "
   ]
  },
  {
   "cell_type": "markdown",
   "id": "83e6a772",
   "metadata": {},
   "source": [
    " <div class=\"alert alert-success\">\n",
    "<b>Комментарий ревьюера ✔️:</b> Для подбора еще можно воспользоваться библиотекой scorch\n",
    "    \n",
    "Для начала напишем нейросеть:\n",
    "    \n",
    "    \n",
    "```python\n",
    "    class Model_improve(nn.Module):\n",
    "    def __init__(self, n_in_neurons, n_hidden_neurons_1, n_hidden_neurons_2, n_hidden_neurons_3, n_out_neurons, \n",
    "                 dropout_1, dropout_2,  dropout_3, activation_1, activation_2):\n",
    "        super(Model_improve, self).__init__()\n",
    "        \n",
    "        <your code>\n",
    "\n",
    "    def forward(self, x):\n",
    "        <your code>\n",
    "        return x\n",
    "\n",
    "```\n",
    "\n",
    "    \n",
    "Вот так можно использовать skorch:) Смотри тут можно применить EarlyStopping:\n",
    "\n",
    "```python\n",
    "   from skorch.callbacks import EpochScoring, EarlyStopping\n",
    "   skorch_regressor = NeuralNetRegressor(module=model_base, \n",
    "                                      device='cpu',  \n",
    "                                      verbose=3,\n",
    "                                      batch_size=batch_size,\n",
    "                                      optimizer=torch.optim.Adam, \n",
    "                                      max_epochs=2500, \n",
    "                                      lr=lr,\n",
    "                                      train_split=ValidSplit(cv=5),\n",
    "                                      criterion =nn.MSELoss,\n",
    "                                      callbacks=[\n",
    "                ('val_rmse', EpochScoring(scoring=rmse_scorer, lower_is_better=True, name='RMSE')),\n",
    "                ('estoper', EarlyStopping( lower_is_better=True, monitor='RMSE', patience=patience)),\n",
    "            ],\n",
    "                                     ) \n",
    "    \n",
    "```\n",
    "Осталось разобраться и подставить нужные значения в пропущенные места:)\n",
    "            \n",
    "```model_base``` - твоя нейросеть - ```net = Model_improve(<your code>)```\n",
    "    \n",
    "    \n",
    "P.S rmse_scorer можно определить через ```make_scorer```    \n",
    "\n",
    "    \n",
    "Задать параметры можно вот так:    \n",
    "```python\n",
    "    params = {\n",
    "    'module__dropout': [0, 0.1],\n",
    "    'module__n_hidden_neurons_1': range(10, 30, 5),\n",
    "    'module__n_hidden_neurons_2': range(10, 30, 5),\n",
    "    'module__activation': [nn.LeakyReLU(), nn.Tanh(), nn.ReLU(), nn.ELU()],\n",
    "    'lr': [1e-3, 1e-4]\n",
    "}\n",
    "```\n",
    "Обрати внимание, что это только пример!!! его еще необходимо настроить под себя. Чтобы обратиться к параметрам нейросети используй ```module__```, если просто к NeuralNetRegressor, то без приставки:)\n",
    "    \n",
    "Подбор паарметров:\n",
    "    \n",
    "    \n",
    "```python\n",
    "    grid = RandomizedSearchCV(skorch_regressor, params, cv=3, scoring=\"neg_root_mean_squared_error\", verbose=3) \n",
    "    grid.fit(X_train_tensor, y_train_tensor.reshape(-1,1)) \n",
    "    \n",
    "    \n",
    "```\n",
    "</div>\n",
    "            \n",
    "            \n",
    "            "
   ]
  },
  {
   "cell_type": "markdown",
   "id": "7f248c7d",
   "metadata": {},
   "source": [
    "__Визуализация результатов:__"
   ]
  },
  {
   "cell_type": "code",
   "execution_count": 568,
   "id": "805552fd",
   "metadata": {},
   "outputs": [
    {
     "data": {
      "image/png": "[encoded data removed]",
      "text/plain": [
       "<Figure size 1000x600 with 1 Axes>"
      ]
     },
     "metadata": {},
     "output_type": "display_data"
    }
   ],
   "source": [
    "actual_values = y_test_tensor.numpy().flatten()\n",
    "predicted_values = best_predict\n",
    "# условные номера звезд\n",
    "star_numbers = range(1, len(actual_values) + 1)\n",
    "\n",
    "bar_width = 0.4 # ширина столбцов\n",
    "\n",
    "plt.figure(figsize=(10, 6))\n",
    "plt.bar(star_numbers, actual_values, width=bar_width, label='Факт', align='center')\n",
    "plt.bar(np.array(star_numbers) + bar_width, predicted_values, width=bar_width, label='Прогноз', align='center')\n",
    "plt.xlabel('Условные номера звёзд')\n",
    "plt.ylabel('Температура (Кельвины)')\n",
    "plt.title('Столбчатая диаграмма \"Факт - Прогноз\"')\n",
    "plt.legend()\n",
    "plt.grid(True)\n",
    "plt.xticks(star_numbers)\n",
    "plt.show()"
   ]
  },
  {
   "cell_type": "markdown",
   "id": "c81fa36d",
   "metadata": {},
   "source": [
    "<div style=\"padding: 30px 25px; border: 2px #6495ed solid\">\n",
    "    \n",
    "    - Метрика качества модели после применения подбора параметров нейронной сети, на тестовых данных составила 4389, что соответствует заявленному минимуму.\n",
    "    - По графику \"Факт - Прогноз\" видно, что модель стала лучше предсказывать температуру наиболее горячих звезд, по сравнению с простой моделью.\n",
    "    - Оптимальные параметры:\n",
    "        - 'dropout': 0.5\n",
    "        - 'batch_size': 8\n",
    "    \n",
    "</div>"
   ]
  },
  {
   "cell_type": "markdown",
   "id": "826b24e9",
   "metadata": {},
   "source": [
    "<div style=\"padding:0px 20px 10px; \n",
    "            color:#004346;\n",
    "            font-size:15px;\n",
    "            display:fill;\n",
    "            text-align:center;\n",
    "            border-radius:20px;\n",
    "            border: 5px double;\n",
    "            border-color:#201E20;\n",
    "            background-color: #E8F1F2;\n",
    "            overflow:hidden;\n",
    "            font-weight:400\"> \n",
    "\n",
    "# Вывод\n",
    "    \n",
    "</div>"
   ]
  },
  {
   "cell_type": "markdown",
   "id": "d09cc16c",
   "metadata": {},
   "source": [
    "- Проведен анализ и предобработка данных.\n",
    "- Разработаны и проверены на данных для тестирования две нейронные сети.\n",
    "- Достигнута удовлетворяющая метрика качества (4389).\n",
    "- Во второй модели проведен подбор параметров размера пакета (батча) и Dropout, без изменений в архитектуре сети:\n",
    "\n",
    "   - Оптимальный размера пакета (батча) составил 8, что ниже по сравнению размера батча в исходной модели, что имеет плюсы:\n",
    "       - Ускорение обучения: Уменьшение размера пакета позволяет обновлять веса модели чаще, поскольку каждая эпоха будет иметь больше итераций. Это может привести к ускорению процесса обучения и быстрому сходимости модели.\n",
    "\n",
    "       - Экономия памяти: Меньший размер пакета требует меньше оперативной памяти для хранения активаций и градиентов.\n",
    "\n",
    "       - Более стабильное обновление весов: Уменьшение размера пакета может сделать обновление весов более стабильным и надежным, поскольку каждое обновление основано на меньшем числе образцов данных. Это может помочь предотвратить большие колебания в процессе обучения и повысить стабильность модели.\n",
    "       \n",
    "   - Преимущества применения метода Dropout:\n",
    "\n",
    "        - Dropout помогает уменьшить взаимозависимость между нейронами в сети, поскольку каждый нейрон может быть случайным образом отключен. Это позволяет модели изучать более разнообразные представления данных и уменьшает риск сильной корреляции между нейронами.\n",
    "\n",
    "        - Модель становится более устойчивой к шуму в данных. Это может помочь улучшить обобщающую способность модели, то есть ее способность делать точные прогнозы на новых, неизвестных данных.\n",
    " __________       \n",
    "- __Рекомендации:__\n",
    "     - Необходим сбор дополнительных данных, что позволит построить модель с большей точностью прогнизирования."
   ]
  },
  {
   "cell_type": "markdown",
   "id": "2b3a2d65",
   "metadata": {},
   "source": [
    "<div class=\"alert alert-success\">\n",
    "<b>Комментарий ревьюера ✔️:</b>\n",
    "    \n",
    "Немного полезного материала:    \n",
    "\n",
    "1) Ребята из-за \"бугра\": https://www.reg.ru/blog/stenfordskij-kurs-lekciya-1-vvedenie/ (тут про свёрточные, но интересно)<br>\n",
    "2) Интересная статья специалиста Тесла: https://karpathy.github.io/neuralnets/ <br>\n",
    "3) Список книг на выбор: https://habr.com/ru/company/neurodatalab/blog/336218/ <br>\n",
    "\n",
    "\n",
    "\n",
    "Кстати есть еще нейросеть TabNet, которая заточена для работы с табличными данными:\n",
    "+  https://habr.com/ru/post/540736/    \n",
    "+  https://www.kaggle.com/code/carlmcbrideellis/tabnet-a-very-simple-regression-example/notebook\n",
    "\n",
    "</div>"
   ]
  },
  {
   "cell_type": "markdown",
   "id": "20b1a793",
   "metadata": {},
   "source": [
    "<div class=\"alert alert-success\">\n",
    "<b>Комментарий ревьюера ✔️:</b> \n",
    "    \n",
    "Еще можно было вот так решить:\n",
    "    \n",
    "+  https://colab.research.google.com/drive/1ZyMsfYf5c1jzBurRKMIlF8n6Vmn7Lpad?usp=sharing\n",
    "\n",
    "</div>\n"
   ]
  },
  {
   "cell_type": "markdown",
   "id": "4af0dcfe",
   "metadata": {},
   "source": [
    "<font color='blue'><b>Итоговый комментарий ревьюера</b></font>\n",
    "<div class=\"alert alert-success\">\n",
    "<b>Комментарий ревьюера ✔️:</b>Денис, спасибо за хороший проект!!! Я готов принять работу, но хочу убедиться, что тебе все понятно.<br>\n",
    "Если есть какие либо вопросы я с удовольствием на них отвечу:)</div>\n"
   ]
  }
 ],
 "metadata": {
  "kernelspec": {
   "display_name": "Python 3 (ipykernel)",
   "language": "python",
   "name": "python3"
  },
  "language_info": {
   "codemirror_mode": {
    "name": "ipython",
    "version": 3
   },
   "file_extension": ".py",
   "mimetype": "text/x-python",
   "name": "python",
   "nbconvert_exporter": "python",
   "pygments_lexer": "ipython3",
   "version": "3.10.9"
  },
  "toc": {
   "base_numbering": 1,
   "nav_menu": {},
   "number_sections": true,
   "sideBar": true,
   "skip_h1_title": false,
   "title_cell": "Table of Contents",
   "title_sidebar": "Contents",
   "toc_cell": false,
   "toc_position": {},
   "toc_section_display": true,
   "toc_window_display": false
  }
 },
 "nbformat": 4,
 "nbformat_minor": 5
}
